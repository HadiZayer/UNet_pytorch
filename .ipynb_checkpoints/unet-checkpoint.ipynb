{
 "cells": [
  {
   "cell_type": "code",
   "execution_count": 1,
   "metadata": {
    "collapsed": true
   },
   "outputs": [],
   "source": [
    "import torch\n",
    "import torch.nn as nn\n",
    "import torch.nn.functional as F\n",
    "from torch.autograd import Variable\n",
    "from torch import optim\n",
    "import torchvision\n",
    "from torch.utils.data import DataLoader\n",
    "from skimage import io"
   ]
  },
  {
   "cell_type": "code",
   "execution_count": 2,
   "metadata": {
    "collapsed": true
   },
   "outputs": [],
   "source": [
    "from skimage import io\n",
    "import os"
   ]
  },
  {
   "cell_type": "code",
   "execution_count": 5,
   "metadata": {
    "collapsed": true
   },
   "outputs": [],
   "source": [
    "class double_conv_relu(nn.Module):\n",
    "    \n",
    "    def __init__(self, in_channels, out_channels, dropout=False):\n",
    "        super(double_conv_relu, self).__init__()\n",
    "        \n",
    "        self.conv1 = nn.Conv2d(in_channels, out_channels, kernel_size=3, padding=1)\n",
    "        self.conv2 = nn.Conv2d(out_channels, out_channels, kernel_size=3, padding=1)\n",
    "        self.drop = nn.Dropout2d(p=0.2)\n",
    "        self.norm = nn.BatchNorm2d(out_channels)\n",
    "        self.ReLU = nn.ReLU(inplace=True)\n",
    "        self.dropout = dropout\n",
    "    def forward(self, x):\n",
    "        out = self.conv1(x)\n",
    "        out = self.norm(out)\n",
    "        out = self.ReLU(out)\n",
    "        out = self.conv2(out)\n",
    "        out = self.norm(out)\n",
    "        out = self.ReLU(out)\n",
    "        if(self.dropout):\n",
    "            out = self.drop(out)\n",
    "        return out\n",
    "    \n",
    "\n",
    "\n",
    "class upsample(nn.Module):\n",
    "    def __init__(self, in_channels, out_channels, bilinear=False):\n",
    "        super(upsample, self).__init__()\n",
    "        \n",
    "        if bilinear:\n",
    "            self.up = nn.Upsample(scale_factor=2, mode='bilinear')\n",
    "        else:\n",
    "            self.up = nn.ConvTranspose2d(in_channels, out_channels, kernel_size=2, stride=2)\n",
    "        \n",
    "    def forward(self, x):\n",
    "        out = self.up(x)\n",
    "        return out\n",
    "    \n",
    "class concatenate_conv(nn.Module):\n",
    "    def __init__(self, layer_size):\n",
    "        super(concatenate_conv, self).__init__()\n",
    "        self.conv = double_conv_relu(layer_size*2, layer_size)\n",
    "        \n",
    "    def forward(self, encoder_layer, decoder_layer):\n",
    "        out = torch.cat([encoder_layer, decoder_layer], dim=1)\n",
    "        out = self.conv(out)\n",
    "        return out\n",
    "        "
   ]
  },
  {
   "cell_type": "code",
   "execution_count": 10,
   "metadata": {
    "collapsed": true
   },
   "outputs": [],
   "source": [
    "class unet(nn.Module):\n",
    "    def __init__(self, in_channels, out_classes, dropout=False):\n",
    "        super(unet, self).__init__()\n",
    "        \n",
    "        self.encoder_conv1 = double_conv_relu(in_channels, 64, dropout)\n",
    "        self.encoder_conv2 = double_conv_relu(64, 128, dropout)\n",
    "        self.encoder_conv3 = double_conv_relu(128, 256, dropout)\n",
    "        self.encoder_conv4 = double_conv_relu(256, 512, dropout)\n",
    "        self.encoder_conv5 = double_conv_relu(512, 512, dropout)\n",
    "        \n",
    "        self.decoder_conv1 = concatenate_conv(512)\n",
    "        self.decoder_conv2 = concatenate_conv(256)\n",
    "        self.decoder_conv3 = concatenate_conv(128)\n",
    "        self.decoder_conv4 = concatenate_conv(64)\n",
    "        \n",
    "        self.up1 = upsample(512, 512)\n",
    "        self.up2 = upsample(512, 256)\n",
    "        self.up3 = upsample(256, 128)\n",
    "        self.up4 = upsample(128, 64)\n",
    "        \n",
    "        self.down = nn.MaxPool2d(kernel_size=2, stride=2)\n",
    "        \n",
    "        self.output_conv = nn.Conv2d(64, out_classes, kernel_size=1)\n",
    "        \n",
    "    def forward(self, x):\n",
    "        encode1 = self.encoder_conv1(x)\n",
    "        out = self.down(encode1)\n",
    "        encode2 = self.encoder_conv2(out)\n",
    "        out = self.down(encode2)\n",
    "        encode3 = self.encoder_conv3(out)\n",
    "        out = self.down(encode3)\n",
    "        encode4 = self.encoder_conv4(out)\n",
    "        out = self.down(encode4)\n",
    "        encode5 = self.encoder_conv5(out)\n",
    "        decode = self.up1(encode5)\n",
    "        decode = self.decoder_conv1(encode4, decode)\n",
    "        decode = self.up2(decode)\n",
    "        decode = self.decoder_conv2(encode3, decode)\n",
    "        decode = self.up3(decode)\n",
    "        decode = self.decoder_conv3(encode2, decode)\n",
    "        decode = self.up4(decode)\n",
    "        decode = self.decoder_conv4(encode1, decode)\n",
    "        out = self.output_conv(decode)\n",
    "        \n",
    "        return out\n",
    "        \n",
    "        "
   ]
  },
  {
   "cell_type": "code",
   "execution_count": 15,
   "metadata": {},
   "outputs": [
    {
     "data": {
      "text/plain": [
       "14787842"
      ]
     },
     "execution_count": 15,
     "metadata": {},
     "output_type": "execute_result"
    }
   ],
   "source": [
    "model = UNet(1, 2)\n",
    "sum(p.numel() for p in model.parameters() if p.requires_grad)"
   ]
  },
  {
   "cell_type": "code",
   "execution_count": 16,
   "metadata": {
    "collapsed": true
   },
   "outputs": [],
   "source": [
    "from torchvision.transforms import ToTensor\n",
    "\n",
    "def train_model(model, batch_size, epochs, lr=0.1, gpu=False):\n",
    "    \n",
    "    optimizer = optim.SGD(model.parameters(), lr=lr, momentum=0.9)\n",
    "    criterion = nn.BCELoss()\n",
    "    \n",
    "    for epoch in range(epochs):\n",
    "        \n",
    "        data_dir = os.path.join(os.path.dirname(os.getcwd()), 'data')\n",
    "        labels = io.imread(os.path.join(data_dir, 'train-labels.tif')) #load training labels\n",
    "        labels = ToTensor()(labels)\n",
    "        labels.requires_grad = False\n",
    "        labels = labels.transpose(0,1) #needed because of the TIF files\n",
    "        \n",
    "        labels = labels.unsqueeze(1)\n",
    "        labels = labels[0]\n",
    "        labels = labels.unsqueeze(0)\n",
    "        labels = torch.Tensor.long(labels)\n",
    "        labels = Variable(labels)\n",
    "        \n",
    "        imgs = io.imread(os.path.join(data_dir, 'train-volume.tif')) #load training data\n",
    "        imgs = ToTensor()(imgs)\n",
    "        imgs = imgs.transpose(0,1)\n",
    "        imgs.requires_grad = False\n",
    "        imgs = imgs.unsqueeze(1)\n",
    "        imgs = imgs[0]\n",
    "        imgs = imgs.unsqueeze(0)\n",
    "        imgs = Variable(imgs)\n",
    "        if gpu:\n",
    "            imgs = imgs.cuda()\n",
    "            labels = labels.cuda()\n",
    "            \n",
    "        \n",
    "        pred_masks = model(imgs)\n",
    "        sigmoid = nn.Sigmoid()\n",
    "        loss = criterion(sigmoid(pred_masks), labels)\n",
    "        \n",
    "        optimizer.zero_grad()\n",
    "        loss.backward()\n",
    "        optimizer.step()\n",
    "        \n",
    "        epoch_loss = loss.item()\n",
    "        print('Epoch {}, loss: {}'.format(epoch, epoch_loss))"
   ]
  },
  {
   "cell_type": "code",
   "execution_count": 14,
   "metadata": {},
   "outputs": [
    {
     "ename": "NameError",
     "evalue": "name 'train_model' is not defined",
     "output_type": "error",
     "traceback": [
      "\u001b[0;31m---------------------------------------------------------------------------\u001b[0m",
      "\u001b[0;31mNameError\u001b[0m                                 Traceback (most recent call last)",
      "\u001b[0;32m<ipython-input-14-7428c874ab03>\u001b[0m in \u001b[0;36m<module>\u001b[0;34m()\u001b[0m\n\u001b[1;32m      1\u001b[0m \u001b[0mmodel\u001b[0m \u001b[0;34m=\u001b[0m \u001b[0mUNet\u001b[0m\u001b[0;34m(\u001b[0m\u001b[0;36m1\u001b[0m\u001b[0;34m,\u001b[0m \u001b[0;36m2\u001b[0m\u001b[0;34m)\u001b[0m\u001b[0;34m\u001b[0m\u001b[0m\n\u001b[1;32m      2\u001b[0m \u001b[0;31m# model.cuda()\u001b[0m\u001b[0;34m\u001b[0m\u001b[0;34m\u001b[0m\u001b[0m\n\u001b[0;32m----> 3\u001b[0;31m \u001b[0mtrain_model\u001b[0m\u001b[0;34m(\u001b[0m\u001b[0mmodel\u001b[0m\u001b[0;34m,\u001b[0m \u001b[0;36m1\u001b[0m\u001b[0;34m,\u001b[0m \u001b[0;36m5\u001b[0m\u001b[0;34m,\u001b[0m \u001b[0mgpu\u001b[0m\u001b[0;34m=\u001b[0m\u001b[0;32mFalse\u001b[0m\u001b[0;34m)\u001b[0m\u001b[0;34m\u001b[0m\u001b[0m\n\u001b[0m",
      "\u001b[0;31mNameError\u001b[0m: name 'train_model' is not defined"
     ]
    }
   ],
   "source": [
    "model = UNet(1, 2)\n",
    "# model.cuda()\n",
    "train_model(model, 1, 5, gpu=False)"
   ]
  },
  {
   "cell_type": "code",
   "execution_count": 108,
   "metadata": {
    "collapsed": true
   },
   "outputs": [],
   "source": [
    "from torchvision.transforms import ToTensor\n",
    "data_dir = os.path.join(os.path.dirname(os.getcwd()), 'data')\n",
    "image = io.imread(os.path.join(data_dir, 'train-labels.tif'))\n",
    "image = ToTensor()(image)"
   ]
  },
  {
   "cell_type": "code",
   "execution_count": 109,
   "metadata": {},
   "outputs": [
    {
     "data": {
      "text/plain": [
       "\n",
       "( 0 , 0 ,.,.) = \n",
       "   1   1   1  ...    1   1   1\n",
       "   1   1   1  ...    1   1   1\n",
       "   1   1   1  ...    1   1   1\n",
       "     ...       ⋱       ...    \n",
       "   1   1   1  ...    1   1   1\n",
       "   1   1   1  ...    1   1   1\n",
       "   1   1   1  ...    1   1   1\n",
       "\n",
       "( 0 , 1 ,.,.) = \n",
       "   1   1   1  ...    1   1   1\n",
       "   1   1   1  ...    1   1   1\n",
       "   1   1   1  ...    1   1   1\n",
       "     ...       ⋱       ...    \n",
       "   1   1   1  ...    1   1   1\n",
       "   1   1   1  ...    1   1   1\n",
       "   1   1   1  ...    1   1   1\n",
       "\n",
       "( 0 , 2 ,.,.) = \n",
       "   1   1   1  ...    1   1   1\n",
       "   1   1   1  ...    1   1   1\n",
       "   1   1   1  ...    1   1   1\n",
       "     ...       ⋱       ...    \n",
       "   1   1   1  ...    1   1   1\n",
       "   1   1   1  ...    1   1   1\n",
       "   1   1   1  ...    1   1   1\n",
       "    ... \n",
       "\n",
       "( 0 ,27 ,.,.) = \n",
       "   1   1   1  ...    1   1   1\n",
       "   1   1   1  ...    1   1   1\n",
       "   1   1   1  ...    1   1   1\n",
       "     ...       ⋱       ...    \n",
       "   1   1   1  ...    1   1   1\n",
       "   1   1   1  ...    1   1   1\n",
       "   1   1   1  ...    1   1   1\n",
       "\n",
       "( 0 ,28 ,.,.) = \n",
       "   1   1   1  ...    1   1   1\n",
       "   1   1   1  ...    1   1   1\n",
       "   1   1   1  ...    1   1   1\n",
       "     ...       ⋱       ...    \n",
       "   1   1   1  ...    1   1   1\n",
       "   1   1   1  ...    1   1   1\n",
       "   1   1   1  ...    1   1   1\n",
       "\n",
       "( 0 ,29 ,.,.) = \n",
       "   1   1   1  ...    1   1   1\n",
       "   1   1   1  ...    1   1   1\n",
       "   1   1   1  ...    1   1   1\n",
       "     ...       ⋱       ...    \n",
       "   1   1   1  ...    1   1   1\n",
       "   1   1   1  ...    1   1   1\n",
       "   1   1   1  ...    1   1   1\n",
       "[torch.FloatTensor of size 1x30x512x512]"
      ]
     },
     "execution_count": 109,
     "metadata": {},
     "output_type": "execute_result"
    }
   ],
   "source": [
    "image.transpose(0,1).unsqueeze(0)"
   ]
  },
  {
   "cell_type": "code",
   "execution_count": 12,
   "metadata": {
    "collapsed": true
   },
   "outputs": [],
   "source": [
    "# sub-parts of the U-Net model\n",
    "\n",
    "import torch\n",
    "import torch.nn as nn\n",
    "import torch.nn.functional as F\n",
    "\n",
    "\n",
    "class double_conv(nn.Module):\n",
    "    '''(conv => BN => ReLU) * 2'''\n",
    "    def __init__(self, in_ch, out_ch):\n",
    "        super(double_conv, self).__init__()\n",
    "        self.conv = nn.Sequential(\n",
    "            nn.Conv2d(in_ch, out_ch, 3, padding=1),\n",
    "            nn.BatchNorm2d(out_ch),\n",
    "            nn.ReLU(inplace=True),\n",
    "            nn.Conv2d(out_ch, out_ch, 3, padding=1),\n",
    "            nn.BatchNorm2d(out_ch),\n",
    "            nn.ReLU(inplace=True)\n",
    "        )\n",
    "\n",
    "    def forward(self, x):\n",
    "        x = self.conv(x)\n",
    "        return x\n",
    "\n",
    "\n",
    "class inconv(nn.Module):\n",
    "    def __init__(self, in_ch, out_ch):\n",
    "        super(inconv, self).__init__()\n",
    "        self.conv = double_conv(in_ch, out_ch)\n",
    "\n",
    "    def forward(self, x):\n",
    "        x = self.conv(x)\n",
    "        return x\n",
    "\n",
    "\n",
    "class down(nn.Module):\n",
    "    def __init__(self, in_ch, out_ch):\n",
    "        super(down, self).__init__()\n",
    "        self.mpconv = nn.Sequential(\n",
    "            nn.MaxPool2d(2),\n",
    "            double_conv(in_ch, out_ch)\n",
    "        )\n",
    "\n",
    "    def forward(self, x):\n",
    "        x = self.mpconv(x)\n",
    "        return x\n",
    "\n",
    "\n",
    "class up(nn.Module):\n",
    "    def __init__(self, in_ch, out_ch, bilinear=True):\n",
    "        super(up, self).__init__()\n",
    "\n",
    "        #  would be a nice idea if the upsampling could be learned too,\n",
    "        #  but my machine do not have enough memory to handle all those weights\n",
    "\n",
    "        \n",
    "        self.up = nn.ConvTranspose2d(in_ch//2, in_ch//2, 2, stride=2)\n",
    "\n",
    "        self.conv = double_conv(in_ch, out_ch)\n",
    "\n",
    "    def forward(self, x1, x2):\n",
    "        x1 = self.up(x1)\n",
    "        diffX = x1.size()[2] - x2.size()[2]\n",
    "        diffY = x1.size()[3] - x2.size()[3]\n",
    "        x2 = F.pad(x2, (diffX // 2, int(diffX / 2),\n",
    "                        diffY // 2, int(diffY / 2)))\n",
    "        x = torch.cat([x2, x1], dim=1)\n",
    "        x = self.conv(x)\n",
    "        return x\n",
    "\n",
    "\n",
    "class outconv(nn.Module):\n",
    "    def __init__(self, in_ch, out_ch):\n",
    "        super(outconv, self).__init__()\n",
    "        self.conv = nn.Conv2d(in_ch, out_ch, 1)\n",
    "\n",
    "    def forward(self, x):\n",
    "        x = self.conv(x)\n",
    "        return x"
   ]
  },
  {
   "cell_type": "code",
   "execution_count": 13,
   "metadata": {
    "collapsed": true
   },
   "outputs": [],
   "source": [
    "# full assembly of the sub-parts to form the complete net\n",
    "\n",
    "\n",
    "class UNet(nn.Module):\n",
    "    def __init__(self, n_channels, n_classes):\n",
    "        super(UNet, self).__init__()\n",
    "        self.inc = inconv(n_channels, 64)\n",
    "        self.down1 = down(64, 128)\n",
    "        self.down2 = down(128, 256)\n",
    "        self.down3 = down(256, 512)\n",
    "        self.down4 = down(512, 512)\n",
    "        self.up1 = up(1024, 256)\n",
    "        self.up2 = up(512, 128)\n",
    "        self.up3 = up(256, 64)\n",
    "        self.up4 = up(128, 64)\n",
    "        self.outc = outconv(64, n_classes)\n",
    "\n",
    "    def forward(self, x):\n",
    "        x1 = self.inc(x)\n",
    "        x2 = self.down1(x1)\n",
    "        x3 = self.down2(x2)\n",
    "        x4 = self.down3(x3)\n",
    "        x5 = self.down4(x4)\n",
    "        x = self.up1(x5, x4)\n",
    "        x = self.up2(x, x3)\n",
    "        x = self.up3(x, x2)\n",
    "        x = self.up4(x, x1)\n",
    "        x = self.outc(x)\n",
    "        return x"
   ]
  },
  {
   "cell_type": "code",
   "execution_count": null,
   "metadata": {
    "collapsed": true
   },
   "outputs": [],
   "source": []
  }
 ],
 "metadata": {
  "kernelspec": {
   "display_name": "Python 3",
   "language": "python",
   "name": "python3"
  },
  "language_info": {
   "codemirror_mode": {
    "name": "ipython",
    "version": 3
   },
   "file_extension": ".py",
   "mimetype": "text/x-python",
   "name": "python",
   "nbconvert_exporter": "python",
   "pygments_lexer": "ipython3",
   "version": "3.6.3"
  }
 },
 "nbformat": 4,
 "nbformat_minor": 2
}
