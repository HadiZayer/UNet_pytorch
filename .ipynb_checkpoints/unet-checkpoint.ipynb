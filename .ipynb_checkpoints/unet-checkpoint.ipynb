{
 "cells": [
  {
   "cell_type": "code",
   "execution_count": 2,
   "metadata": {},
   "outputs": [],
   "source": [
    "import torch\n",
    "import torch.nn as nn\n",
    "import torch.nn.functional as F\n",
    "from torch.autograd import Variable\n",
    "from torch import optim\n",
    "import torchvision\n",
    "from torch.utils.data import DataLoader\n",
    "from skimage import io"
   ]
  },
  {
   "cell_type": "code",
   "execution_count": 3,
   "metadata": {},
   "outputs": [],
   "source": [
    "from skimage import io\n",
    "import os"
   ]
  },
  {
   "cell_type": "code",
   "execution_count": 4,
   "metadata": {},
   "outputs": [],
   "source": [
    "class double_conv_relu(nn.Module):\n",
    "    \n",
    "    def __init__(self, in_channels, out_channels, dropout=False):\n",
    "        super(double_conv_relu, self).__init__()\n",
    "        \n",
    "        self.conv1 = nn.Conv2d(in_channels, out_channels, kernel_size=3, padding=1)\n",
    "        self.conv2 = nn.Conv2d(out_channels, out_channels, kernel_size=3, padding=1)\n",
    "        self.drop = nn.Dropout2d(p=0.2)\n",
    "        self.norm = nn.BatchNorm2d(out_channels)\n",
    "        self.ReLU = nn.ReLU(inplace=True)\n",
    "        self.dropout = dropout\n",
    "    def forward(self, x):\n",
    "        out = self.conv1(x)\n",
    "        out = self.norm(out)\n",
    "        out = self.ReLU(out)\n",
    "        out = self.conv2(out)\n",
    "        out = self.norm(out)\n",
    "        out = self.ReLU(out)\n",
    "        if(self.dropout):\n",
    "            out = self.drop(out)\n",
    "        return out\n",
    "    \n",
    "\n",
    "\n",
    "class upsample(nn.Module):\n",
    "    def __init__(self, in_channels, out_channels, bilinear=False):\n",
    "        super(upsample, self).__init__()\n",
    "        \n",
    "        if bilinear:\n",
    "            self.up = nn.Upsample(scale_factor=2, mode='bilinear')\n",
    "        else:\n",
    "            self.up = nn.ConvTranspose2d(in_channels, out_channels, kernel_size=2, stride=2)\n",
    "        \n",
    "    def forward(self, x):\n",
    "        out = self.up(x)\n",
    "        return out\n",
    "    \n",
    "class concatenate_conv(nn.Module):\n",
    "    def __init__(self, layer_size):\n",
    "        super(concatenate_conv, self).__init__()\n",
    "        self.conv = double_conv_relu(layer_size*2, layer_size)\n",
    "        \n",
    "    def forward(self, encoder_layer, decoder_layer):\n",
    "        out = torch.cat([encoder_layer, decoder_layer], dim=1)\n",
    "        out = self.conv(out)\n",
    "        return out\n",
    "        "
   ]
  },
  {
   "cell_type": "code",
   "execution_count": 5,
   "metadata": {},
   "outputs": [],
   "source": [
    "class unet(nn.Module):\n",
    "    def __init__(self, in_channels, out_classes, dropout=False):\n",
    "        super(unet, self).__init__()\n",
    "        \n",
    "        self.encoder_conv1 = double_conv_relu(in_channels, 64, dropout)\n",
    "        self.encoder_conv2 = double_conv_relu(64, 128, dropout)\n",
    "        self.encoder_conv3 = double_conv_relu(128, 256, dropout)\n",
    "        self.encoder_conv4 = double_conv_relu(256, 512, dropout)\n",
    "        self.encoder_conv5 = double_conv_relu(512, 512, dropout) #set out channels to 512 instead of 1024 for memory\n",
    "        \n",
    "        self.decoder_conv1 = concatenate_conv(512)\n",
    "        self.decoder_conv2 = concatenate_conv(256)\n",
    "        self.decoder_conv3 = concatenate_conv(128)\n",
    "        self.decoder_conv4 = concatenate_conv(64)\n",
    "        \n",
    "        self.up1 = upsample(512, 512)\n",
    "        self.up2 = upsample(512, 256)\n",
    "        self.up3 = upsample(256, 128)\n",
    "        self.up4 = upsample(128, 64)\n",
    "        \n",
    "        self.down = nn.MaxPool2d(kernel_size=2, stride=2)\n",
    "        \n",
    "        self.output_conv = nn.Conv2d(64, out_classes, kernel_size=1)\n",
    "        \n",
    "    def forward(self, x):\n",
    "        encode1 = self.encoder_conv1(x)\n",
    "        out = self.down(encode1)\n",
    "        encode2 = self.encoder_conv2(out)\n",
    "        out = self.down(encode2)\n",
    "        encode3 = self.encoder_conv3(out)\n",
    "        out = self.down(encode3)\n",
    "        encode4 = self.encoder_conv4(out)\n",
    "        out = self.down(encode4)\n",
    "        encode5 = self.encoder_conv5(out)\n",
    "        decode = self.up1(encode5)\n",
    "        decode = self.decoder_conv1(encode4, decode)\n",
    "        decode = self.up2(decode)\n",
    "        decode = self.decoder_conv2(encode3, decode)\n",
    "        decode = self.up3(decode)\n",
    "        decode = self.decoder_conv3(encode2, decode)\n",
    "        decode = self.up4(decode)\n",
    "        decode = self.decoder_conv4(encode1, decode)\n",
    "        out = self.output_conv(decode)\n",
    "        \n",
    "        return out\n",
    "        \n",
    "        "
   ]
  },
  {
   "cell_type": "code",
   "execution_count": 6,
   "metadata": {},
   "outputs": [
    {
     "data": {
      "text/plain": [
       "20548738"
      ]
     },
     "execution_count": 6,
     "metadata": {},
     "output_type": "execute_result"
    }
   ],
   "source": [
    "model = unet(1,2)\n",
    "sum(p.numel() for p in model.parameters() if p.requires_grad)"
   ]
  },
  {
   "cell_type": "code",
   "execution_count": 7,
   "metadata": {},
   "outputs": [],
   "source": [
    "from torchvision.transforms import ToTensor\n",
    "\n",
    "def train_model(model, batch_size, epochs, lr=0.1, gpu=False):\n",
    "    \n",
    "    optimizer = optim.SGD(model.parameters(), lr=lr, momentum=0.9)\n",
    "    criterion = nn.CrossEntropyLoss()\n",
    "    \n",
    "    for epoch in range(epochs):\n",
    "        \n",
    "        data_dir = os.path.join((os.getcwd()), 'data')\n",
    "        labels = io.imread(os.path.join(data_dir, 'train-labels.tif')) #load training labels\n",
    "        labels = ToTensor()(labels)\n",
    "        labels.requires_grad = False\n",
    "        labels = labels.transpose(0,1) #needed because of the TIF files\n",
    "        \n",
    "#         labels = labels.unsqueeze(1)\n",
    "        labels = labels[0]\n",
    "        labels = labels.unsqueeze(0)\n",
    "        labels = torch.Tensor.long(labels)\n",
    "        labels = Variable(labels)\n",
    "        \n",
    "        imgs = io.imread(os.path.join(data_dir, 'train-volume.tif')) #load training data\n",
    "        imgs = ToTensor()(imgs)\n",
    "        imgs = imgs.transpose(0,1)\n",
    "        imgs.requires_grad = False\n",
    "        imgs = imgs.unsqueeze(1)\n",
    "        imgs = imgs[0]\n",
    "        imgs = imgs.unsqueeze(0)\n",
    "        imgs = Variable(imgs)\n",
    "        if gpu:\n",
    "            imgs = imgs.cuda()\n",
    "            labels = labels.cuda()\n",
    "            \n",
    "        \n",
    "        pred_masks = model(imgs)\n",
    "        loss = criterion(pred_masks, labels)\n",
    "        \n",
    "        optimizer.zero_grad()\n",
    "        loss.backward()\n",
    "        optimizer.step()\n",
    "        \n",
    "        epoch_loss = loss.item()\n",
    "        print('Epoch {}, loss: {}'.format(epoch, epoch_loss))"
   ]
  },
  {
   "cell_type": "code",
   "execution_count": 8,
   "metadata": {},
   "outputs": [
    {
     "name": "stderr",
     "output_type": "stream",
     "text": [
      "D:\\Anaconda\\lib\\site-packages\\ipykernel_launcher.py:37: UserWarning: Implicit dimension choice for log_softmax has been deprecated. Change the call to include dim=X as an argument.\n"
     ]
    },
    {
     "ename": "AttributeError",
     "evalue": "'Variable' object has no attribute 'item'",
     "output_type": "error",
     "traceback": [
      "\u001b[1;31m---------------------------------------------------------------------------\u001b[0m",
      "\u001b[1;31mAttributeError\u001b[0m                            Traceback (most recent call last)",
      "\u001b[1;32m<ipython-input-8-a9faf13209d4>\u001b[0m in \u001b[0;36m<module>\u001b[1;34m()\u001b[0m\n\u001b[0;32m      1\u001b[0m \u001b[0mmodel\u001b[0m \u001b[1;33m=\u001b[0m \u001b[0munet\u001b[0m\u001b[1;33m(\u001b[0m\u001b[1;36m1\u001b[0m\u001b[1;33m,\u001b[0m \u001b[1;36m2\u001b[0m\u001b[1;33m)\u001b[0m\u001b[1;33m\u001b[0m\u001b[0m\n\u001b[1;32m----> 2\u001b[1;33m \u001b[0mtrain_model\u001b[0m\u001b[1;33m(\u001b[0m\u001b[0mmodel\u001b[0m\u001b[1;33m,\u001b[0m \u001b[1;36m1\u001b[0m\u001b[1;33m,\u001b[0m \u001b[1;36m1\u001b[0m\u001b[1;33m,\u001b[0m \u001b[0mgpu\u001b[0m\u001b[1;33m=\u001b[0m\u001b[1;32mFalse\u001b[0m\u001b[1;33m)\u001b[0m\u001b[1;33m\u001b[0m\u001b[0m\n\u001b[0m",
      "\u001b[1;32m<ipython-input-7-932c044948dc>\u001b[0m in \u001b[0;36mtrain_model\u001b[1;34m(model, batch_size, epochs, lr, gpu)\u001b[0m\n\u001b[0;32m     42\u001b[0m         \u001b[0moptimizer\u001b[0m\u001b[1;33m.\u001b[0m\u001b[0mstep\u001b[0m\u001b[1;33m(\u001b[0m\u001b[1;33m)\u001b[0m\u001b[1;33m\u001b[0m\u001b[0m\n\u001b[0;32m     43\u001b[0m \u001b[1;33m\u001b[0m\u001b[0m\n\u001b[1;32m---> 44\u001b[1;33m         \u001b[0mepoch_loss\u001b[0m \u001b[1;33m=\u001b[0m \u001b[0mloss\u001b[0m\u001b[1;33m.\u001b[0m\u001b[0mitem\u001b[0m\u001b[1;33m(\u001b[0m\u001b[1;33m)\u001b[0m\u001b[1;33m\u001b[0m\u001b[0m\n\u001b[0m\u001b[0;32m     45\u001b[0m         \u001b[0mprint\u001b[0m\u001b[1;33m(\u001b[0m\u001b[1;34m'Epoch {}, loss: {}'\u001b[0m\u001b[1;33m.\u001b[0m\u001b[0mformat\u001b[0m\u001b[1;33m(\u001b[0m\u001b[0mepoch\u001b[0m\u001b[1;33m,\u001b[0m \u001b[0mepoch_loss\u001b[0m\u001b[1;33m)\u001b[0m\u001b[1;33m)\u001b[0m\u001b[1;33m\u001b[0m\u001b[0m\n",
      "\u001b[1;32mD:\\Anaconda\\lib\\site-packages\\torch\\autograd\\variable.py\u001b[0m in \u001b[0;36m__getattr__\u001b[1;34m(self, name)\u001b[0m\n\u001b[0;32m     65\u001b[0m         \u001b[1;32mif\u001b[0m \u001b[0mname\u001b[0m \u001b[1;32min\u001b[0m \u001b[0mself\u001b[0m\u001b[1;33m.\u001b[0m\u001b[0m_fallthrough_methods\u001b[0m\u001b[1;33m:\u001b[0m\u001b[1;33m\u001b[0m\u001b[0m\n\u001b[0;32m     66\u001b[0m             \u001b[1;32mreturn\u001b[0m \u001b[0mgetattr\u001b[0m\u001b[1;33m(\u001b[0m\u001b[0mself\u001b[0m\u001b[1;33m.\u001b[0m\u001b[0mdata\u001b[0m\u001b[1;33m,\u001b[0m \u001b[0mname\u001b[0m\u001b[1;33m)\u001b[0m\u001b[1;33m\u001b[0m\u001b[0m\n\u001b[1;32m---> 67\u001b[1;33m         \u001b[1;32mreturn\u001b[0m \u001b[0mobject\u001b[0m\u001b[1;33m.\u001b[0m\u001b[0m__getattribute__\u001b[0m\u001b[1;33m(\u001b[0m\u001b[0mself\u001b[0m\u001b[1;33m,\u001b[0m \u001b[0mname\u001b[0m\u001b[1;33m)\u001b[0m\u001b[1;33m\u001b[0m\u001b[0m\n\u001b[0m\u001b[0;32m     68\u001b[0m \u001b[1;33m\u001b[0m\u001b[0m\n\u001b[0;32m     69\u001b[0m     \u001b[1;32mdef\u001b[0m \u001b[0m__getitem__\u001b[0m\u001b[1;33m(\u001b[0m\u001b[0mself\u001b[0m\u001b[1;33m,\u001b[0m \u001b[0mkey\u001b[0m\u001b[1;33m)\u001b[0m\u001b[1;33m:\u001b[0m\u001b[1;33m\u001b[0m\u001b[0m\n",
      "\u001b[1;31mAttributeError\u001b[0m: 'Variable' object has no attribute 'item'"
     ]
    }
   ],
   "source": [
    "model = unet(1, 2)\n",
    "train_model(model, 1, 1, gpu=False)"
   ]
  },
  {
   "cell_type": "code",
   "execution_count": null,
   "metadata": {},
   "outputs": [],
   "source": []
  }
 ],
 "metadata": {
  "kernelspec": {
   "display_name": "Python 3",
   "language": "python",
   "name": "python3"
  },
  "language_info": {
   "codemirror_mode": {
    "name": "ipython",
    "version": 3
   },
   "file_extension": ".py",
   "mimetype": "text/x-python",
   "name": "python",
   "nbconvert_exporter": "python",
   "pygments_lexer": "ipython3",
   "version": "3.6.5"
  }
 },
 "nbformat": 4,
 "nbformat_minor": 2
}
